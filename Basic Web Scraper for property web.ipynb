{
 "cells": [
  {
   "cell_type": "code",
   "execution_count": 82,
   "id": "cd4bd92e",
   "metadata": {},
   "outputs": [],
   "source": [
    "import requests\n",
    "from bs4 import BeautifulSoup\n",
    "import time\n",
    "import pandas as pd"
   ]
  },
  {
   "cell_type": "code",
   "execution_count": 83,
   "id": "dc23c165",
   "metadata": {},
   "outputs": [],
   "source": [
    "url1 ='https://www.lankapropertyweb.com/rentals/index.php?page='\n",
    "url2 ='&property-type=Apartment'"
   ]
  },
  {
   "cell_type": "code",
   "execution_count": 86,
   "id": "aef8c522",
   "metadata": {},
   "outputs": [],
   "source": [
    "apartments = []\n",
    "\n",
    "for page in range(1,4):\n",
    "    url = url1 + str(page) + url2\n",
    "\n",
    "    r = requests.get(url)\n",
    "\n",
    "    soup = BeautifulSoup(r.content, 'html.parser')\n",
    "\n",
    "    content = soup.find_all('div', class_='thumbnail')\n",
    "\n",
    "\n",
    "    for property in content:\n",
    "        try:\n",
    "            area_name = property.find('div', class_='areaname').text\n",
    "        except:\n",
    "            area_name = 'No Record'\n",
    "\n",
    "        try:\n",
    "            price = property.find('span', class_='priceList').text\n",
    "        except: \n",
    "            price = 'No Record'\n",
    "\n",
    "        try:\n",
    "            price_type = property.find('span',class_='price_type').text\n",
    "        except:\n",
    "            price_type = 'No Record'\n",
    "\n",
    "        try:\n",
    "            rooms = property.find('span', class_='room_str_change').string\n",
    "        except:\n",
    "            rooms = 'No Record'\n",
    "        \n",
    "        try:\n",
    "            wrapper = property.find('span', class_=\"property-type-wrapper\").text\n",
    "        except:\n",
    "            wrapper = 'No_Record'\n",
    "        apartment_info = {\n",
    "            'Area':area_name,\n",
    "            'Price':price,\n",
    "            'Price Type':price_type,\n",
    "            'Rooms':rooms,\n",
    "            'Wrapper':wrapper\n",
    "        }\n",
    "        apartments.append(apartment_info)\n",
    "    time.sleep(2)"
   ]
  },
  {
   "cell_type": "code",
   "execution_count": 89,
   "id": "27c91659",
   "metadata": {},
   "outputs": [
    {
     "data": {
      "text/html": [
       "<div>\n",
       "<style scoped>\n",
       "    .dataframe tbody tr th:only-of-type {\n",
       "        vertical-align: middle;\n",
       "    }\n",
       "\n",
       "    .dataframe tbody tr th {\n",
       "        vertical-align: top;\n",
       "    }\n",
       "\n",
       "    .dataframe thead th {\n",
       "        text-align: right;\n",
       "    }\n",
       "</style>\n",
       "<table border=\"1\" class=\"dataframe\">\n",
       "  <thead>\n",
       "    <tr style=\"text-align: right;\">\n",
       "      <th></th>\n",
       "      <th>Area</th>\n",
       "      <th>Price</th>\n",
       "      <th>Price Type</th>\n",
       "      <th>Rooms</th>\n",
       "      <th>Wrapper</th>\n",
       "    </tr>\n",
       "  </thead>\n",
       "  <tbody>\n",
       "    <tr>\n",
       "      <th>0</th>\n",
       "      <td>Colombo 5</td>\n",
       "      <td>Rs. 140,000 Per Month</td>\n",
       "      <td>Per Month</td>\n",
       "      <td>3</td>\n",
       "      <td>Apartment</td>\n",
       "    </tr>\n",
       "    <tr>\n",
       "      <th>1</th>\n",
       "      <td>Colombo 5</td>\n",
       "      <td>Rs. 7,000 Per Day</td>\n",
       "      <td>Per Day</td>\n",
       "      <td>3</td>\n",
       "      <td>Apartment</td>\n",
       "    </tr>\n",
       "    <tr>\n",
       "      <th>2</th>\n",
       "      <td>Colombo 2</td>\n",
       "      <td></td>\n",
       "      <td>No Record</td>\n",
       "      <td>4</td>\n",
       "      <td>Apartment</td>\n",
       "    </tr>\n",
       "    <tr>\n",
       "      <th>3</th>\n",
       "      <td>Colombo 2</td>\n",
       "      <td></td>\n",
       "      <td>No Record</td>\n",
       "      <td>2</td>\n",
       "      <td>Apartment</td>\n",
       "    </tr>\n",
       "    <tr>\n",
       "      <th>4</th>\n",
       "      <td>Colombo 2</td>\n",
       "      <td></td>\n",
       "      <td>No Record</td>\n",
       "      <td>3</td>\n",
       "      <td>Apartment</td>\n",
       "    </tr>\n",
       "  </tbody>\n",
       "</table>\n",
       "</div>"
      ],
      "text/plain": [
       "          Area                   Price Price Type Rooms    Wrapper\n",
       "0   Colombo 5   Rs. 140,000 Per Month   Per Month     3  Apartment\n",
       "1   Colombo 5       Rs. 7,000 Per Day     Per Day     3  Apartment\n",
       "2   Colombo 2                           No Record     4  Apartment\n",
       "3   Colombo 2                           No Record     2  Apartment\n",
       "4   Colombo 2                           No Record     3  Apartment"
      ]
     },
     "execution_count": 89,
     "metadata": {},
     "output_type": "execute_result"
    }
   ],
   "source": [
    "df = pd.DataFrame(apartments)\n",
    "df.to_csv('Apartmentspropertyweb.csv')\n",
    "df.head()"
   ]
  },
  {
   "cell_type": "code",
   "execution_count": null,
   "id": "fd3bb56b",
   "metadata": {},
   "outputs": [],
   "source": []
  }
 ],
 "metadata": {
  "kernelspec": {
   "display_name": "Python 3",
   "language": "python",
   "name": "python3"
  },
  "language_info": {
   "codemirror_mode": {
    "name": "ipython",
    "version": 3
   },
   "file_extension": ".py",
   "mimetype": "text/x-python",
   "name": "python",
   "nbconvert_exporter": "python",
   "pygments_lexer": "ipython3",
   "version": "3.8.5"
  },
  "toc": {
   "base_numbering": 1,
   "nav_menu": {},
   "number_sections": true,
   "sideBar": true,
   "skip_h1_title": false,
   "title_cell": "Table of Contents",
   "title_sidebar": "Contents",
   "toc_cell": false,
   "toc_position": {},
   "toc_section_display": true,
   "toc_window_display": false
  },
  "varInspector": {
   "cols": {
    "lenName": 16,
    "lenType": 16,
    "lenVar": 40
   },
   "kernels_config": {
    "python": {
     "delete_cmd_postfix": "",
     "delete_cmd_prefix": "del ",
     "library": "var_list.py",
     "varRefreshCmd": "print(var_dic_list())"
    },
    "r": {
     "delete_cmd_postfix": ") ",
     "delete_cmd_prefix": "rm(",
     "library": "var_list.r",
     "varRefreshCmd": "cat(var_dic_list()) "
    }
   },
   "types_to_exclude": [
    "module",
    "function",
    "builtin_function_or_method",
    "instance",
    "_Feature"
   ],
   "window_display": false
  }
 },
 "nbformat": 4,
 "nbformat_minor": 5
}
